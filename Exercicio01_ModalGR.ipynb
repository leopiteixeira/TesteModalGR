{
  "nbformat": 4,
  "nbformat_minor": 0,
  "metadata": {
    "colab": {
      "provenance": []
    },
    "kernelspec": {
      "name": "python3",
      "display_name": "Python 3"
    },
    "language_info": {
      "name": "python"
    }
  },
  "cells": [
    {
      "cell_type": "code",
      "execution_count": 59,
      "metadata": {
        "id": "HKPTS1JbOev2"
      },
      "outputs": [],
      "source": [
        "import os\n",
        "from cryptography.hazmat.primitives.ciphers.aead import AESCCM, AESOCB3, AESGCM"
      ]
    },
    {
      "cell_type": "code",
      "source": [
        "senha1 = b\"Senha1ParaOCofre\"\n",
        "aad = b\"texto para autenticacao\"\n",
        "key = AESCCM.generate_key(bit_length=256)\n",
        "aesccm = AESCCM(key)\n",
        "nonce = os.urandom(13)\n",
        "encripitada = aesccm.encrypt(nonce, senha1, aad)"
      ],
      "metadata": {
        "id": "aTVvb7roQsKc"
      },
      "execution_count": 48,
      "outputs": []
    },
    {
      "cell_type": "code",
      "source": [
        "encripitada"
      ],
      "metadata": {
        "colab": {
          "base_uri": "https://localhost:8080/"
        },
        "id": "OKlvoq_TQw8o",
        "outputId": "19a47b36-a093-4fc4-a256-e057a820f194"
      },
      "execution_count": 49,
      "outputs": [
        {
          "output_type": "execute_result",
          "data": {
            "text/plain": [
              "b'\\x81aE\\xe9\\r\\x8a\\xd6\\x95L\\xf7m%\\x0cL \\xb4\\xe1+\\x0c%\\x9dO^YN\\x88\\x99\\xe8>sh\\xd2'"
            ]
          },
          "metadata": {},
          "execution_count": 49
        }
      ]
    },
    {
      "cell_type": "code",
      "source": [
        "aesccm.decrypt(nonce, encripitada, aad)"
      ],
      "metadata": {
        "colab": {
          "base_uri": "https://localhost:8080/"
        },
        "id": "nNq7x_zlRu-e",
        "outputId": "470da89a-5d20-42e3-c458-d011c381c647"
      },
      "execution_count": 50,
      "outputs": [
        {
          "output_type": "execute_result",
          "data": {
            "text/plain": [
              "b'Senha1ParaOCofre'"
            ]
          },
          "metadata": {},
          "execution_count": 50
        }
      ]
    },
    {
      "cell_type": "code",
      "source": [
        "senha2 = b\"Senha2ParaOCofre\"\n",
        "aesocb3 = AESOCB3(key)\n",
        "nonce = os.urandom(13)\n",
        "encripitada2 = aesocb3.encrypt(nonce, senha2, aad)"
      ],
      "metadata": {
        "id": "uhxzLdt-R2Vv"
      },
      "execution_count": 51,
      "outputs": []
    },
    {
      "cell_type": "code",
      "source": [
        "encripitada2"
      ],
      "metadata": {
        "colab": {
          "base_uri": "https://localhost:8080/"
        },
        "id": "WXVJejrOR9S-",
        "outputId": "5cb102fe-7acd-446f-b7b1-0e97e17d9aee"
      },
      "execution_count": 57,
      "outputs": [
        {
          "output_type": "execute_result",
          "data": {
            "text/plain": [
              "b';\\xa4@\\xa9\\x04\\xd8\\xef\\xd5\\x1f\\x0b\\xe8\\xba\\xb5\\xee\\xba`D\"a\\x92\\xa2\\x81Q\\xb6\\x8eY\\xa659,\\xc0\\xc6'"
            ]
          },
          "metadata": {},
          "execution_count": 57
        }
      ]
    },
    {
      "cell_type": "code",
      "source": [
        "aesocb3.decrypt(nonce, encripitada2, aad)"
      ],
      "metadata": {
        "colab": {
          "base_uri": "https://localhost:8080/"
        },
        "id": "Hxy3wg1TXRQh",
        "outputId": "366d9b31-89b0-4211-bc35-ce096b3c86f8"
      },
      "execution_count": 58,
      "outputs": [
        {
          "output_type": "execute_result",
          "data": {
            "text/plain": [
              "b'Senha2ParaOCofre'"
            ]
          },
          "metadata": {},
          "execution_count": 58
        }
      ]
    },
    {
      "cell_type": "code",
      "source": [
        "senha3 = b\"Senha3ParaOCofre\"\n",
        "aesgcm = AESGCM(key)\n",
        "nonce = os.urandom(13)\n",
        "encripitada3 = aesgcm.encrypt(nonce, senha3, aad)"
      ],
      "metadata": {
        "id": "xnP8Nb3oXqMq"
      },
      "execution_count": 60,
      "outputs": []
    },
    {
      "cell_type": "code",
      "source": [
        "encripitada3"
      ],
      "metadata": {
        "colab": {
          "base_uri": "https://localhost:8080/"
        },
        "id": "piDdtpFkYPZ7",
        "outputId": "8fff2652-de3c-41be-c390-c055b875d99c"
      },
      "execution_count": 61,
      "outputs": [
        {
          "output_type": "execute_result",
          "data": {
            "text/plain": [
              "b'\\xa2F\\xd4\\xa9\\xa4\\xd0\\x18\\xadC?\"\\x1f-8\\x8fq\\xac\\x8e\\x96\\xcd\\xe99\\x0b\\xa8G\\xe4.e\\xb2kc\\xaa'"
            ]
          },
          "metadata": {},
          "execution_count": 61
        }
      ]
    },
    {
      "cell_type": "code",
      "source": [
        "aesgcm.decrypt(nonce, encripitada3, aad)"
      ],
      "metadata": {
        "colab": {
          "base_uri": "https://localhost:8080/"
        },
        "id": "trYH3t60YRJC",
        "outputId": "01d4ed11-5d07-4fbd-e0c4-a156979578c5"
      },
      "execution_count": 62,
      "outputs": [
        {
          "output_type": "execute_result",
          "data": {
            "text/plain": [
              "b'Senha3ParaOCofre'"
            ]
          },
          "metadata": {},
          "execution_count": 62
        }
      ]
    },
    {
      "cell_type": "code",
      "source": [],
      "metadata": {
        "id": "-O4Q8CIlYYtN"
      },
      "execution_count": null,
      "outputs": []
    }
  ]
}